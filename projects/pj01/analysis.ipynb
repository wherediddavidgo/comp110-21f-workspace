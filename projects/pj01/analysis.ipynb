{
 "cells": [
  {
   "cell_type": "markdown",
   "metadata": {},
   "source": [
    "# Question\n",
    "### How do students of different majors rate the difficulty of COMP 110?\n",
    "Setup:"
   ]
  },
  {
   "cell_type": "code",
   "execution_count": 381,
   "metadata": {},
   "outputs": [],
   "source": [
    "%reload_ext autoreload\n",
    "%autoreload 2\n",
    "\n",
    "DATA_DIRECTORY=\"../../data\"\n",
    "DATA_FILE_PATH=f\"{DATA_DIRECTORY}/survey.csv\""
   ]
  },
  {
   "cell_type": "markdown",
   "metadata": {},
   "source": [
    "I start by reading the csv data into row format (list of dictionaries)."
   ]
  },
  {
   "cell_type": "code",
   "execution_count": 382,
   "metadata": {},
   "outputs": [],
   "source": [
    "from data_utils import read_csv_rows\n",
    "data_rows: list[dict[str, str]] = read_csv_rows(DATA_FILE_PATH)"
   ]
  },
  {
   "cell_type": "markdown",
   "metadata": {},
   "source": [
    "Next I use the `columnar` function written for ex07 to convert the data to column format (dictionary of column titles as keys and lists as values)."
   ]
  },
  {
   "cell_type": "code",
   "execution_count": 383,
   "metadata": {},
   "outputs": [],
   "source": [
    "from data_utils import columnar\n",
    "data_columns: dict[str, list[str]] = columnar(data_rows)"
   ]
  },
  {
   "cell_type": "markdown",
   "metadata": {},
   "source": [
    "The only fields I'm interested in analyzing are `\"primary_major\"` and `\"difficulty\"`. I use the `select` function from ex07 to shrink the table to those two columns."
   ]
  },
  {
   "cell_type": "code",
   "execution_count": 384,
   "metadata": {},
   "outputs": [],
   "source": [
    "from data_utils import select\n",
    "columns_smaller: dict[str, list[str]] = select(data_columns, [\"primary_major\", \"difficulty\"])"
   ]
  },
  {
   "cell_type": "markdown",
   "metadata": {},
   "source": [
    "I wrote `create_filter`, `filtered`, and `averages` based on the lesson on using masks to filter column-based data. `create_filter` selects each item in a list of a certain type and returns a list of their indices. `filtered` takes a list and a filter and returns an abridged version of the original list. `averages` uses the other functions listed to filter data such that each unique major is mapped to a list of difficulty ratings associated with the same major. If there are more than 5 ratings in the data, the function converts the difficulties from strings to integers and calculates the mean value for each major. A dictionary with average difficulties mapped to their respective majors is returned.\n",
    "\n",
    "### Conclusion:\n",
    "The majors whose students find COMP 110 easiest are math, computer science, and exercise and sport science. The students who find COMP 110 most difficult major in psychology, environmental science, and information science."
   ]
  },
  {
   "cell_type": "code",
   "execution_count": 402,
   "metadata": {},
   "outputs": [
    {
     "name": "stdout",
     "output_type": "stream",
     "text": [
      "{'Biology': 5.0, 'Biostatistics': 4.833333333333333, 'Business': 4.882352941176471, 'Computer Science': 3.966386554621849, 'Economics': 4.857142857142857, 'Environmental Science': 5.357142857142857, 'Environmental Science ': 5.375, 'Exercise and Sports Science': 4.571428571428571, 'Information Science': 6.0, 'Journalism': 5.0, 'Math': 5.0, 'Math ': 3.75, 'Neuroscience': 4.848484848484849, 'Neuroscience ': 5.2, 'Psychology': 5.7368421052631575, 'Psychology ': 5.891891891891892, 'Statistics': 4.375, 'Statistics ': 5.0476190476190474, 'Undecided': 4.666666666666667}\n"
     ]
    }
   ],
   "source": [
    "from data_utils import averages\n",
    "average_difficulties: dict[str, float] = averages(columns_smaller, \"primary_major\", \"difficulty\")\n",
    "print(average_difficulties)"
   ]
  },
  {
   "cell_type": "code",
   "execution_count": 408,
   "metadata": {},
   "outputs": [
    {
     "data": {
      "text/plain": [
       "<AxesSubplot:>"
      ]
     },
     "execution_count": 408,
     "metadata": {},
     "output_type": "execute_result"
    },
    {
     "data": {
      "image/png": "[encoded data removed]",
      "text/plain": [
       "<Figure size 432x288 with 1 Axes>"
      ]
     },
     "metadata": {
      "needs_background": "light"
     },
     "output_type": "display_data"
    }
   ],
   "source": [
    "import seaborn\n",
    "\n",
    "majors: list[str] = []\n",
    "avs: list[float] = []\n",
    "abridged: dict[str, float] = {}\n",
    "\n",
    "abridged[\"COMP\"] = average_difficulties[\"Computer Science\"]\n",
    "abridged[\"MATH \"] = average_difficulties[\"Math \"]\n",
    "abridged[\"EXSS\"] = average_difficulties[\"Exercise and Sports Science\"]\n",
    "abridged[\"PSYCH \"] = average_difficulties[\"Psychology \"]\n",
    "abridged[\"ENVR\"] = average_difficulties[\"Environmental Science \"]\n",
    "abridged[\"INLS\"] = average_difficulties[\"Information Science\"]\n",
    "\n",
    "for key in abridged:\n",
    "    majors.append(key)\n",
    "    avs.append(abridged[key])\n",
    "\n",
    "seaborn.barplot(x=majors, y = avs)"
   ]
  }
 ],
 "metadata": {
  "interpreter": {
   "hash": "a58b191ad2a25b19fea43b3067475f20bdb1c629ecc23182cd320980facf1bfc"
  },
  "kernelspec": {
   "display_name": "Python 3.9.6 64-bit",
   "name": "python3"
  },
  "language_info": {
   "codemirror_mode": {
    "name": "ipython",
    "version": 3
   },
   "file_extension": ".py",
   "mimetype": "text/x-python",
   "name": "python",
   "nbconvert_exporter": "python",
   "pygments_lexer": "ipython3",
   "version": "3.9.6"
  },
  "orig_nbformat": 4
 },
 "nbformat": 4,
 "nbformat_minor": 2
}
